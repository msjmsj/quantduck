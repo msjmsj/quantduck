{
 "cells": [
  {
   "cell_type": "code",
   "execution_count": 1,
   "metadata": {},
   "outputs": [
    {
     "name": "stdout",
     "output_type": "stream",
     "text": [
      "Hello, QuantDuck!\n"
     ]
    }
   ],
   "source": [
    "print(\"Hello, QuantDuck!\")"
   ]
  },
  {
   "cell_type": "code",
   "execution_count": 12,
   "metadata": {},
   "outputs": [],
   "source": [
    "from quantduck.core.database import get_db\n",
    "\n",
    "def basic_example():\n",
    "    \"\"\"基本使用示例\"\"\"\n",
    "    # 获取数据库实例\n",
    "    db = get_db()\n",
    "    \n",
    "    # 示例1: 检查特定token\n",
    "    token_address = \"0xd43fba1f38d9b306aeef9d78ad177d51ef802b46\"\n",
    "    exists = db.check_token_in_recent_signals(token_address)\n",
    "    print(f\"Token {token_address} 在最近24小时内{'存在' if exists else '不存在'}\")\n",
    "    \n",
    "    # 示例2: 获取最近信号\n",
    "    signals = db.get_recent_signals()  # 获取最近12小时的信号\n",
    "    print(f\"\\n最近 {len(signals)} 个信号\")\n",
    "    \n",
    "    # 打印最新的3个信号\n",
    "    print(\"\\n最新的3个信号:\")\n",
    "    for signal in signals[:3]:\n",
    "        print(f\"\\n时间: {signal['detected_time'].strftime('%Y-%m-%d %H:%M:%S')}\")\n",
    "        print(f\"Token地址: {signal['token_address']}\")\n",
    "        # 打印其他可用字段\n",
    "        for key, value in signal.items():\n",
    "            if key not in ['detected_time', 'token_address']:\n",
    "                print(f\"{key}: {value}\")\n",
    "\n",
    "   "
   ]
  },
  {
   "cell_type": "code",
   "execution_count": 13,
   "metadata": {},
   "outputs": [
    {
     "name": "stdout",
     "output_type": "stream",
     "text": [
      "Token 0xd43fba1f38d9b306aeef9d78ad177d51ef802b46 在最近24小时内存在\n",
      "\n",
      "最近 262 个信号\n",
      "\n",
      "最新的3个信号:\n",
      "\n",
      "时间: 2024-11-17 01:30:53\n",
      "Token地址: 0x43d7e65b8ff49698d9550a7f315c87e67344fb59\n",
      "id: 3943\n",
      "source: cmc_eth\n",
      "platform: ETH\n",
      "dex_info: None\n",
      "\n",
      "时间: 2024-11-17 01:30:53\n",
      "Token地址: 0x8ccd897ca6160ed76755383b201c1948394328c7\n",
      "id: 3942\n",
      "source: cmc_eth\n",
      "platform: ETH\n",
      "dex_info: None\n",
      "\n",
      "时间: 2024-11-17 01:30:53\n",
      "Token地址: 0xbc391E78B0EA0d1Db04890732742494e7FBFc118\n",
      "id: 3941\n",
      "source: cmc_eth\n",
      "platform: ETH\n",
      "dex_info: None\n"
     ]
    }
   ],
   "source": [
    "basic_example() "
   ]
  },
  {
   "cell_type": "code",
   "execution_count": null,
   "metadata": {},
   "outputs": [],
   "source": []
  }
 ],
 "metadata": {
  "kernelspec": {
   "display_name": "quantduck-0VQ7ueK--py3.12",
   "language": "python",
   "name": "python3"
  },
  "language_info": {
   "codemirror_mode": {
    "name": "ipython",
    "version": 3
   },
   "file_extension": ".py",
   "mimetype": "text/x-python",
   "name": "python",
   "nbconvert_exporter": "python",
   "pygments_lexer": "ipython3",
   "version": "3.12.1"
  }
 },
 "nbformat": 4,
 "nbformat_minor": 2
}
